{
  "nbformat": 4,
  "nbformat_minor": 0,
  "metadata": {
    "colab": {
      "name": "3/10deeplearning.ipynb의 사본",
      "provenance": []
    },
    "kernelspec": {
      "name": "python3",
      "display_name": "Python 3"
    },
    "language_info": {
      "name": "python"
    }
  },
  "cells": [
    {
      "cell_type": "code",
      "execution_count": null,
      "metadata": {
        "id": "B8JisVtjZtLR"
      },
      "outputs": [],
      "source": [
        "import torch\n",
        "import torch.nn as nn\n",
        "import torch.optim as optim"
      ]
    },
    {
      "cell_type": "code",
      "source": [
        "x_train = torch.FloatTensor([[1], [2], [3]])\n",
        "y_train = torch.FloatTensor([[1], [2], [3]])"
      ],
      "metadata": {
        "id": "epQATLqIfU8C"
      },
      "execution_count": null,
      "outputs": []
    },
    {
      "cell_type": "code",
      "source": [
        "W = torch.rand(1, requires_grad=True) # set model\n",
        "b = torch.rand(1, requires_grad=True)"
      ],
      "metadata": {
        "id": "HtpeGZMQfiJv"
      },
      "execution_count": null,
      "outputs": []
    },
    {
      "cell_type": "code",
      "source": [
        "def loss_function(y_hat, y): # set loss function\n",
        "  return torch.mean((y_hat - y) ** 2)"
      ],
      "metadata": {
        "id": "FU-a0WMMfuYO"
      },
      "execution_count": null,
      "outputs": []
    },
    {
      "cell_type": "code",
      "source": [
        "class LinearRegression(nn.Module):\n",
        "  def __init__(self, x_in, x_out):\n",
        "    super(LinearRegression, self).__init__()\n",
        "    self.linear = nn.Linear(x_in, x_out)\n",
        "  def forward(self, x):\n",
        "    return self.linear(x)"
      ],
      "metadata": {
        "id": "kFKGhL9lhu2y"
      },
      "execution_count": null,
      "outputs": []
    },
    {
      "cell_type": "code",
      "source": [
        "model = LinearRegression(1, 1)"
      ],
      "metadata": {
        "id": "eI2ytCXSiC6N"
      },
      "execution_count": null,
      "outputs": []
    },
    {
      "cell_type": "code",
      "source": [
        "optimizer = optim.SGD([W, b], lr=0.01) # set optimizer, lr : learning rate"
      ],
      "metadata": {
        "id": "SHSkGl36f3zK"
      },
      "execution_count": null,
      "outputs": []
    },
    {
      "cell_type": "code",
      "source": [
        "epochs = 30 # 수렴할 때까지 반복할 횟수\n",
        "for epoch in range(epochs):\n",
        "  hypothesis = x_train * W + b # forward propagation\n",
        "  cost = loss_function(hypothesis, y_train) # get cost\n",
        "  \n",
        "  optimizer.zero_grad() # initialize gradient to 0\n",
        "  cost.backward() # backward propagation\n",
        "  optimizer.step() # update parameters (W, b)\n",
        "\n",
        "  #print('Epoch {:4d}/{} Cost: {:.6f} W: {:.3f}, b: {:.3f}'.format(epoch, epochs, cost.item(), W.item(), b.item()))\n",
        "  print('Epoch {:4d}/{} Cost: {:.6f} W: {:.3f}, b: {:.3f}'.format(epoch, epochs, cost.item(), model.linear.weight.item(), model.linear.bias.item()))"
      ],
      "metadata": {
        "colab": {
          "base_uri": "https://localhost:8080/"
        },
        "id": "5bUkqlVhgB7O",
        "outputId": "4ff477ea-2149-4060-a065-9de9fd6c94eb"
      },
      "execution_count": null,
      "outputs": [
        {
          "output_type": "stream",
          "name": "stdout",
          "text": [
            "Epoch    0/30 Cost: 0.024638 W: -0.428, b: 0.539\n",
            "Epoch    1/30 Cost: 0.024465 W: -0.428, b: 0.539\n",
            "Epoch    2/30 Cost: 0.024305 W: -0.428, b: 0.539\n",
            "Epoch    3/30 Cost: 0.024155 W: -0.428, b: 0.539\n",
            "Epoch    4/30 Cost: 0.024012 W: -0.428, b: 0.539\n",
            "Epoch    5/30 Cost: 0.023876 W: -0.428, b: 0.539\n",
            "Epoch    6/30 Cost: 0.023744 W: -0.428, b: 0.539\n",
            "Epoch    7/30 Cost: 0.023617 W: -0.428, b: 0.539\n",
            "Epoch    8/30 Cost: 0.023493 W: -0.428, b: 0.539\n",
            "Epoch    9/30 Cost: 0.023372 W: -0.428, b: 0.539\n",
            "Epoch   10/30 Cost: 0.023254 W: -0.428, b: 0.539\n",
            "Epoch   11/30 Cost: 0.023137 W: -0.428, b: 0.539\n",
            "Epoch   12/30 Cost: 0.023022 W: -0.428, b: 0.539\n",
            "Epoch   13/30 Cost: 0.022908 W: -0.428, b: 0.539\n",
            "Epoch   14/30 Cost: 0.022795 W: -0.428, b: 0.539\n",
            "Epoch   15/30 Cost: 0.022684 W: -0.428, b: 0.539\n",
            "Epoch   16/30 Cost: 0.022573 W: -0.428, b: 0.539\n",
            "Epoch   17/30 Cost: 0.022464 W: -0.428, b: 0.539\n",
            "Epoch   18/30 Cost: 0.022355 W: -0.428, b: 0.539\n",
            "Epoch   19/30 Cost: 0.022247 W: -0.428, b: 0.539\n",
            "Epoch   20/30 Cost: 0.022139 W: -0.428, b: 0.539\n",
            "Epoch   21/30 Cost: 0.022032 W: -0.428, b: 0.539\n",
            "Epoch   22/30 Cost: 0.021926 W: -0.428, b: 0.539\n",
            "Epoch   23/30 Cost: 0.021821 W: -0.428, b: 0.539\n",
            "Epoch   24/30 Cost: 0.021716 W: -0.428, b: 0.539\n",
            "Epoch   25/30 Cost: 0.021611 W: -0.428, b: 0.539\n",
            "Epoch   26/30 Cost: 0.021507 W: -0.428, b: 0.539\n",
            "Epoch   27/30 Cost: 0.021404 W: -0.428, b: 0.539\n",
            "Epoch   28/30 Cost: 0.021301 W: -0.428, b: 0.539\n",
            "Epoch   29/30 Cost: 0.021198 W: -0.428, b: 0.539\n"
          ]
        }
      ]
    },
    {
      "cell_type": "code",
      "source": [
        "x_train2 = torch.FloatTensor([[0,0], [0,1], [1,0], [1,1]])\n",
        "y_train2 = torch.FloatTensor([[0], [0], [0], [1]])"
      ],
      "metadata": {
        "id": "AMsmPZIUhQur"
      },
      "execution_count": null,
      "outputs": []
    },
    {
      "cell_type": "code",
      "source": [
        "class LogisticRegression(nn.Module):\n",
        "  def __init__(self, x_in, x_out):\n",
        "    super(LogisticRegression, self).__init__()\n",
        "    self.linear = nn.Linear(x_in, x_out)\n",
        "    self.activation = nn.Sigmoid() # sigmoid function으로 activation function 설정\n",
        "  def forward(self, x):\n",
        "    z = self.linear(x) # hidden layer input\n",
        "    a = self.activation(z) # hidden layer output\n",
        "    return a"
      ],
      "metadata": {
        "id": "rzNdR6cDpwlo"
      },
      "execution_count": null,
      "outputs": []
    },
    {
      "cell_type": "code",
      "source": [
        "model = LogisticRegression(2, 1).train()"
      ],
      "metadata": {
        "id": "RGXM5kYsqO2b"
      },
      "execution_count": null,
      "outputs": []
    },
    {
      "cell_type": "code",
      "source": [
        "optimizer = optim.SGD(model.parameters(), lr=0.01) # set optimizer"
      ],
      "metadata": {
        "id": "0yfSD9liqbER"
      },
      "execution_count": null,
      "outputs": []
    },
    {
      "cell_type": "code",
      "source": [
        "criterion = nn.BCELoss() # set loss function"
      ],
      "metadata": {
        "id": "5i5wX2jvqnpt"
      },
      "execution_count": null,
      "outputs": []
    },
    {
      "cell_type": "code",
      "source": [
        "epochs = 1000\n",
        "for epoch in range(epochs):\n",
        "  model.train() # 학습 모드 전환\n",
        "  hypothesis = model(x_train2) # forward propagation\n",
        "  cost = criterion(hypothesis+1e-8, y_train2) # get cost\n",
        "  \n",
        "  optimizer.zero_grad() # initialize gradient to 0\n",
        "  cost.backward() # backward propagation\n",
        "  optimizer.step() # update parameters (W, b)\n",
        "\n",
        "  if epoch != 0 and epoch % 100 == 0:\n",
        "    model.eval() # 평가 모드 전환\n",
        "    with torch.no_grad():\n",
        "      predicts = model(x_train2)\n",
        "      print('predict with model : {}'.format(predicts))\n",
        "      print('real value y : {}'.format(y_train2))"
      ],
      "metadata": {
        "colab": {
          "base_uri": "https://localhost:8080/"
        },
        "id": "kthVNYjvqxqV",
        "outputId": "00cd2e9f-2317-4e3b-c498-01ec85948061"
      },
      "execution_count": null,
      "outputs": [
        {
          "output_type": "stream",
          "name": "stdout",
          "text": [
            "predict with model : tensor([[0.3948],\n",
            "        [0.4644],\n",
            "        [0.4628],\n",
            "        [0.5337]])\n",
            "real value y : tensor([[0.],\n",
            "        [0.],\n",
            "        [0.],\n",
            "        [1.]])\n",
            "predict with model : tensor([[0.3502],\n",
            "        [0.4202],\n",
            "        [0.4188],\n",
            "        [0.4921]])\n",
            "real value y : tensor([[0.],\n",
            "        [0.],\n",
            "        [0.],\n",
            "        [1.]])\n",
            "predict with model : tensor([[0.3159],\n",
            "        [0.3900],\n",
            "        [0.3887],\n",
            "        [0.4681]])\n",
            "real value y : tensor([[0.],\n",
            "        [0.],\n",
            "        [0.],\n",
            "        [1.]])\n",
            "predict with model : tensor([[0.2885],\n",
            "        [0.3688],\n",
            "        [0.3676],\n",
            "        [0.4558]])\n",
            "real value y : tensor([[0.],\n",
            "        [0.],\n",
            "        [0.],\n",
            "        [1.]])\n",
            "predict with model : tensor([[0.2659],\n",
            "        [0.3536],\n",
            "        [0.3524],\n",
            "        [0.4510]])\n",
            "real value y : tensor([[0.],\n",
            "        [0.],\n",
            "        [0.],\n",
            "        [1.]])\n",
            "predict with model : tensor([[0.2468],\n",
            "        [0.3422],\n",
            "        [0.3412],\n",
            "        [0.4512]])\n",
            "real value y : tensor([[0.],\n",
            "        [0.],\n",
            "        [0.],\n",
            "        [1.]])\n",
            "predict with model : tensor([[0.2302],\n",
            "        [0.3335],\n",
            "        [0.3325],\n",
            "        [0.4546]])\n",
            "real value y : tensor([[0.],\n",
            "        [0.],\n",
            "        [0.],\n",
            "        [1.]])\n",
            "predict with model : tensor([[0.2156],\n",
            "        [0.3265],\n",
            "        [0.3256],\n",
            "        [0.4600]])\n",
            "real value y : tensor([[0.],\n",
            "        [0.],\n",
            "        [0.],\n",
            "        [1.]])\n",
            "predict with model : tensor([[0.2024],\n",
            "        [0.3208],\n",
            "        [0.3199],\n",
            "        [0.4668]])\n",
            "real value y : tensor([[0.],\n",
            "        [0.],\n",
            "        [0.],\n",
            "        [1.]])\n"
          ]
        }
      ]
    },
    {
      "cell_type": "code",
      "source": [
        "class MultiLayerPerceptron(nn.Module):\n",
        "  def __init__(self):\n",
        "    super(MultiLayerPerceptron, self).__init__()\n",
        "    self.linear1 = nn.Linear(2, 3) # input layer에 2개, hidden layer에 3개\n",
        "    self.activation = nn.Sigmoid()\n",
        "    self.linear2 = nn.Linear(3, 1) # hidden layer에 3개, output layer에 1개\n",
        "\n",
        "  def forward(self, x):\n",
        "    # hidden layer\n",
        "    z1 = self.linear1(x)\n",
        "    a1 = self.activation(z1)\n",
        "\n",
        "    # output layer\n",
        "    z2 = self.linear2(a1)\n",
        "    a2 = self.activation(z2)\n",
        "    return a2"
      ],
      "metadata": {
        "id": "Jn7ic9lCrYoJ"
      },
      "execution_count": null,
      "outputs": []
    },
    {
      "cell_type": "code",
      "source": [
        "model = MultiLayerPerceptron().train()\n",
        "optimizer = optim.SGD(model.parameters(), lr=0.01) # set optimizer\n",
        "criterion = nn.BCELoss() # set loss function"
      ],
      "metadata": {
        "id": "J4kFKrMcscVg"
      },
      "execution_count": null,
      "outputs": []
    },
    {
      "cell_type": "code",
      "source": [
        "x_train3 = torch.FloatTensor([[0,0], [0,1], [1,0], [1,1]])\n",
        "y_train3 = torch.FloatTensor([[0], [1], [1], [0]])"
      ],
      "metadata": {
        "id": "bLC7kP9KtAO8"
      },
      "execution_count": null,
      "outputs": []
    },
    {
      "cell_type": "code",
      "source": [
        "epochs = 1000\n",
        "for epoch in range(epochs):\n",
        "  model.train() # 학습 모드 전환\n",
        "  hypothesis = model(x_train3) # forward propagation\n",
        "  cost = criterion(hypothesis+1e-8, y_train3) # get cost\n",
        "  \n",
        "  optimizer.zero_grad() # initialize gradient to 0\n",
        "  cost.backward() # backward propagation\n",
        "  optimizer.step() # update parameters (W, b)\n",
        "\n",
        "  if epoch != 0 and epoch % 100 == 0:\n",
        "    model.eval() # 평가 모드 전환\n",
        "    with torch.no_grad():\n",
        "      predicts = model(x_train3)\n",
        "      print('predict with model : {}'.format(predicts))\n",
        "      print('real value y : {}'.format(y_train3))"
      ],
      "metadata": {
        "colab": {
          "base_uri": "https://localhost:8080/"
        },
        "id": "P1jcGuyJr6sv",
        "outputId": "74450814-db89-42f2-9317-09c20a64e624"
      },
      "execution_count": null,
      "outputs": [
        {
          "output_type": "stream",
          "name": "stdout",
          "text": [
            "predict with model : tensor([[0.3437],\n",
            "        [0.3333],\n",
            "        [0.3496],\n",
            "        [0.3390]])\n",
            "real value y : tensor([[0.],\n",
            "        [1.],\n",
            "        [1.],\n",
            "        [0.]])\n",
            "predict with model : tensor([[0.3940],\n",
            "        [0.3878],\n",
            "        [0.3996],\n",
            "        [0.3932]])\n",
            "real value y : tensor([[0.],\n",
            "        [1.],\n",
            "        [1.],\n",
            "        [0.]])\n",
            "predict with model : tensor([[0.4287],\n",
            "        [0.4257],\n",
            "        [0.4340],\n",
            "        [0.4308]])\n",
            "real value y : tensor([[0.],\n",
            "        [1.],\n",
            "        [1.],\n",
            "        [0.]])\n",
            "predict with model : tensor([[0.4520],\n",
            "        [0.4511],\n",
            "        [0.4570],\n",
            "        [0.4559]])\n",
            "real value y : tensor([[0.],\n",
            "        [1.],\n",
            "        [1.],\n",
            "        [0.]])\n",
            "predict with model : tensor([[0.4673],\n",
            "        [0.4678],\n",
            "        [0.4721],\n",
            "        [0.4725]])\n",
            "real value y : tensor([[0.],\n",
            "        [1.],\n",
            "        [1.],\n",
            "        [0.]])\n",
            "predict with model : tensor([[0.4773],\n",
            "        [0.4788],\n",
            "        [0.4820],\n",
            "        [0.4833]])\n",
            "real value y : tensor([[0.],\n",
            "        [1.],\n",
            "        [1.],\n",
            "        [0.]])\n",
            "predict with model : tensor([[0.4839],\n",
            "        [0.4860],\n",
            "        [0.4885],\n",
            "        [0.4904]])\n",
            "real value y : tensor([[0.],\n",
            "        [1.],\n",
            "        [1.],\n",
            "        [0.]])\n",
            "predict with model : tensor([[0.4882],\n",
            "        [0.4907],\n",
            "        [0.4927],\n",
            "        [0.4950]])\n",
            "real value y : tensor([[0.],\n",
            "        [1.],\n",
            "        [1.],\n",
            "        [0.]])\n",
            "predict with model : tensor([[0.4910],\n",
            "        [0.4938],\n",
            "        [0.4955],\n",
            "        [0.4981]])\n",
            "real value y : tensor([[0.],\n",
            "        [1.],\n",
            "        [1.],\n",
            "        [0.]])\n"
          ]
        }
      ]
    },
    {
      "cell_type": "code",
      "source": [
        ""
      ],
      "metadata": {
        "id": "gstavk3Ts0EM"
      },
      "execution_count": null,
      "outputs": []
    }
  ]
}